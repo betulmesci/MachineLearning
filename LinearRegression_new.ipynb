{
 "cells": [
  {
   "cell_type": "markdown",
   "metadata": {},
   "source": [
    "# Project : Linear Regression"
   ]
  },
  {
   "cell_type": "markdown",
   "metadata": {},
   "source": [
    "Project Desrcription:\n",
    "In this project I will find the best fitting line to a group of points. To minimize error, this line should be drawn as closely to each point as possible. \n",
    "Steps:\n",
    "1. Function find_y(): Calculates the y value of a point that lies on a line. Given values: point's x value, line's slope and intercept.\n",
    "2. Function error_y(): Finds the error which is the vertical distance of a point to a line. Given values: line's slope and intercept, point's x, y values as a tuple.\n",
    "3. Function total_error(): Calculates the total error of all the points to the line. Given values: Line's slope and intercept, a list of points\n",
    "4. Generate hundreds of lines with varying slopes and intercepts.\n",
    "4. Finally, from the generated lines, find the line which gives the smallest error for a given set of datapoints"
   ]
  },
  {
   "cell_type": "markdown",
   "metadata": {},
   "source": [
    "1. Find y value of a point that lies on a line:"
   ]
  },
  {
   "cell_type": "code",
   "execution_count": 1,
   "metadata": {},
   "outputs": [],
   "source": [
    "def find_y(m, b, x):\n",
    "    y = m * x + b\n",
    "    return y"
   ]
  },
  {
   "cell_type": "markdown",
   "metadata": {},
   "source": [
    "2. Find a point's distance to a line:"
   ]
  },
  {
   "cell_type": "code",
   "execution_count": 2,
   "metadata": {},
   "outputs": [],
   "source": [
    "def error_y(m, b, point):\n",
    "    #First, for the point's x value, find the line's corresponding y value.\n",
    "    y_line = find_y(m, b, point[0])\n",
    "    #Find the difference (error) between point's y value and the line's \n",
    "    #corresponding y value\n",
    "    error = abs(point[1]-y_line)\n",
    "    return error"
   ]
  },
  {
   "cell_type": "markdown",
   "metadata": {},
   "source": [
    "Let's test the error_y() for the point (3, 5) and the line y = 2x + 4:"
   ]
  },
  {
   "cell_type": "code",
   "execution_count": 3,
   "metadata": {},
   "outputs": [
    {
     "name": "stdout",
     "output_type": "stream",
     "text": [
      "5\n"
     ]
    }
   ],
   "source": [
    "print(error_y(2, 4, (3, 5)))"
   ]
  },
  {
   "cell_type": "markdown",
   "metadata": {},
   "source": [
    "3. Now we can find a point's distance to a line, but our goal is to find the total error given a list of points. Function total_error() will do that. "
   ]
  },
  {
   "cell_type": "code",
   "execution_count": 4,
   "metadata": {},
   "outputs": [],
   "source": [
    "def total_error(m, b, points):\n",
    "    #Go over each point in points to find out it's distance to the line\n",
    "    error_of_points = 0\n",
    "    for point in points:\n",
    "        error_of_points += error_y(m, b, point)\n",
    "    return error_of_points\n",
    "        "
   ]
  },
  {
   "cell_type": "markdown",
   "metadata": {},
   "source": [
    "4. Function total_error() gives the total error for a **given** line and datapoints, but our goal eventually is to **find** a line that minimizes that error. To do that, we can generate hundreds of lines with varying slopes and intercepts, and find which combination returns the minimum error for a given groups of data. So, let's generate those lines with varying slopes and intercepts and also define a group of data points:"
   ]
  },
  {
   "cell_type": "code",
   "execution_count": 5,
   "metadata": {},
   "outputs": [],
   "source": [
    "slopes = [ i * 0.01 for i in range(-200, 200)]\n",
    "intercepts = [ i * 0.01 for i in range(-200, 200)]\n",
    "point_group = [(1,3), (2,4), (4,1), (5,3), (4,4), (6,2)]"
   ]
  },
  {
   "cell_type": "markdown",
   "metadata": {},
   "source": [
    "5. Now we will go through each slope and intercept and calculate the total distance (total error) to the points. We need to find the line (min_slope, min_intercept) that produces the smallest error (min_error):"
   ]
  },
  {
   "cell_type": "code",
   "execution_count": 6,
   "metadata": {
    "scrolled": true
   },
   "outputs": [
    {
     "name": "stdout",
     "output_type": "stream",
     "text": [
      "Slope: 0.20\n",
      "Intercept: 1.99\n",
      "Minimum Error: 6.62 \n"
     ]
    }
   ],
   "source": [
    "min_slope = 0\n",
    "min_intercept = 0\n",
    "min_error = float(\"inf\")\n",
    "for slope in slopes:\n",
    "    for intercept in intercepts:\n",
    "        error_for_line = total_error(slope, intercept, point_group)\n",
    "        if error_for_line < min_error:\n",
    "            #Found a smaller error than the previous value\n",
    "            #Record all values in case this is the smallest error\n",
    "            min_error = error_for_line\n",
    "            min_slope = slope\n",
    "            min_intercept = intercept \n",
    "print(\"Slope: {:.2f}\\nIntercept: {:.2f}\\nMinimum Error: {:.2f} \".\n",
    "      format(min_slope, min_intercept, min_error))"
   ]
  },
  {
   "cell_type": "markdown",
   "metadata": {},
   "source": [
    "So the line y = 0.2x + 1.99 fits best to the points with an error of 6.62."
   ]
  },
  {
   "cell_type": "markdown",
   "metadata": {},
   "source": [
    "This project found the line that is closest to a given group of points."
   ]
  }
 ],
 "metadata": {
  "kernelspec": {
   "display_name": "Python 3",
   "language": "python",
   "name": "python3"
  },
  "language_info": {
   "codemirror_mode": {
    "name": "ipython",
    "version": 3
   },
   "file_extension": ".py",
   "mimetype": "text/x-python",
   "name": "python",
   "nbconvert_exporter": "python",
   "pygments_lexer": "ipython3",
   "version": "3.8.3"
  }
 },
 "nbformat": 4,
 "nbformat_minor": 2
}
